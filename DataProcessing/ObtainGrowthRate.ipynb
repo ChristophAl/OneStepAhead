{
 "cells": [
  {
   "cell_type": "markdown",
   "metadata": {},
   "source": [
    "# Growth rate estimates\n",
    "\n",
    "Code to read in information per country on total number of cases and number of days since case 100\n",
    "Then to fit the data, obtaining the date of inflection and the initial growth rate"
   ]
  },
  {
   "cell_type": "code",
   "execution_count": 1,
   "metadata": {
    "collapsed": true
   },
   "outputs": [],
   "source": [
    "import numpy as np\n",
    "import matplotlib.pyplot as plt\n",
    "import matplotlib.colors as colors\n",
    "\n",
    "import csv\n",
    "from scipy.interpolate import interp1d\n",
    "from scipy.optimize import curve_fit\n",
    "\n",
    "import pandas \n",
    "\n",
    "from scipy.optimize import curve_fit\n",
    "\n",
    "%matplotlib inline"
   ]
  },
  {
   "cell_type": "code",
   "execution_count": 7,
   "metadata": {
    "collapsed": true
   },
   "outputs": [],
   "source": [
    "#Fit functions\n",
    "def logistic_model(x,a,b,c):\n",
    "    return c/(1+np.exp(-(x-b)/a))\n",
    "\n",
    "def exponential_model(x,a,b,c):\n",
    "    return a*np.exp(b*(x-c))\n",
    "\n",
    "def linear_fit(x,m,c):\n",
    "    return x*m + c"
   ]
  },
  {
   "cell_type": "code",
   "execution_count": 27,
   "metadata": {},
   "outputs": [],
   "source": [
    "#Calculate chi-squared goodness of fit\n",
    "def chisquare(data,expct):\n",
    "    return sum((data-expct)**2 / expct)"
   ]
  },
  {
   "cell_type": "code",
   "execution_count": 130,
   "metadata": {
    "collapsed": true
   },
   "outputs": [],
   "source": [
    "#Function to obtain growth rate from data file\n",
    "#Input: \n",
    "# inputfile = days since 100 cases , total number of cases, csv format\n",
    "# country = name of country of interest\n",
    "# daterange = boolean : option for a user specified range of days\n",
    "# daystart = 0  : first day for fit period\n",
    "# dayend = 100 : last day for fit period\n",
    "def ObtainGrowthRate(inputfile,country,daterange=False,daystart=0,dayend=100):\n",
    "    \n",
    "    #Read in data file \n",
    "    df = pandas.read_csv(inputfile)\n",
    "    \n",
    "    #Define date range to fit. Default = all days\n",
    "    mask = np.ones(len(df[\"Days since 100\"]),dtype=bool)\n",
    " \n",
    "    #Mask to only consider days with data\n",
    "    dayend = df[\"Days since 100\"][np.argmax(df[country])]\n",
    "    mask = (df[\"Days since 100\"] < dayend)\n",
    "\n",
    "    #Adjust if date range is specified\n",
    "    if daterange:\n",
    "        mask = (df[\"Days since 100\"] > daystart) & (df[\"Days since 100\"] < dayend)\n",
    "    \n",
    "    #Check for sufficient data points:\n",
    "    if not sum(df[country][mask]):\n",
    "        print(\"Empty data for\",country)\n",
    "        return 0., 0., 0.\n",
    "    \n",
    "    #Perform a linear fit to the data\n",
    "    popt, pcov = curve_fit(polfit, df[\"Days since 100\"][mask],np.log10(df[country][mask]))\n",
    "    chi2 = chisquare(df[country][mask],10.**(df[\"Days since 100\"][mask]*popt[0] + popt[1]))\n",
    "\n",
    "    inflection_date = 0.\n",
    "    logchi2 = 0\n",
    "    #Need minimum number of approx. ten days for a logistic fit\n",
    "    if len(df[\"Days since 100\"][mask]) > 15.:\n",
    "        #Perform a logistic fit to the data\n",
    "        log_fit, log_cov = curve_fit(logistic_model,df[\"Days since 100\"][mask],df[country][mask],\n",
    "                                 p0=[2.5,1,max(df[country][mask])])\n",
    "        logchi2 = chisquare(df[country][mask],logistic_model(df[\"Days since 100\"][mask],*log_fit))\n",
    "\n",
    "        inflection_date = log_fit[1]\n",
    "\n",
    "    if (chi2 < logchi2) or (inflection_date > max(df[\"Days since 100\"][mask])) or not inflection_date:\n",
    "        growthrate = popt[0]\n",
    "        print(\"linear fit preferred for\",country,\"growth rate\",growthrate)\n",
    "        return growthrate, 0., inflection_date\n",
    "\n",
    "    print(\"logistic fit preferred for\",country)\n",
    "    print(\"inflection date\",inflection_date)\n",
    "    \n",
    "    #Perform linear fits pre and post inflection date to compare growth rates\n",
    "    mask1 = mask & (df[\"Days since 100\"] < inflection_date)\n",
    "    mask2 = mask & (df[\"Days since 100\"] > inflection_date)\n",
    "\n",
    "    growthrate = 0.\n",
    "    growthrate2 = 0.\n",
    "    \n",
    "    #Check for sufficient data points:\n",
    "    if sum(mask1) > 5:\n",
    "        popt, pcov = curve_fit(polfit, df[\"Days since 100\"][mask1],np.log10(df[country][mask1]))\n",
    "        chi2 = chisquare(df[country][mask1],10.**(df[\"Days since 100\"][mask1]*popt[0] + popt[1]))\n",
    "        growthrate = popt[0]\n",
    "    \n",
    "    if sum(mask2) > 5:\n",
    "        popt2, pcov2 = curve_fit(polfit, df[\"Days since 100\"][mask2],np.log10(df[country][mask2]))\n",
    "        chi2_2 = chisquare(df[country][mask2],10.**(df[\"Days since 100\"][mask2]*popt2[0] + popt2[1]))\n",
    "        growthrate2 = popt2[0]\n",
    "        \n",
    "    return growthrate, growthrate2, inflection_date\n",
    "    "
   ]
  },
  {
   "cell_type": "code",
   "execution_count": 131,
   "metadata": {},
   "outputs": [
    {
     "name": "stdout",
     "output_type": "stream",
     "text": [
      "linear fit preferred for United Kingdom growth rate 0.0988581653017098\n"
     ]
    },
    {
     "name": "stderr",
     "output_type": "stream",
     "text": [
      "/anaconda3/lib/python3.6/site-packages/numpy/core/fromnumeric.py:52: FutureWarning: \n",
      "The current behaviour of 'Series.argmax' is deprecated, use 'idxmax'\n",
      "instead.\n",
      "The behavior of 'argmax' will be corrected to return the positional\n",
      "maximum in the future. For now, use 'series.values.argmax' or\n",
      "'np.argmax(np.array(values))' to get the position of the maximum\n",
      "row.\n",
      "  return getattr(obj, method)(*args, **kwds)\n"
     ]
    },
    {
     "data": {
      "text/plain": [
       "(0.0988581653017098, 0.0, 18.396439308785965)"
      ]
     },
     "execution_count": 131,
     "metadata": {},
     "output_type": "execute_result"
    }
   ],
   "source": [
    "ObtainGrowthRate(\"CountryCases.csv\",\"United Kingdom\")"
   ]
  },
  {
   "cell_type": "markdown",
   "metadata": {},
   "source": [
    "## List of countries\n",
    "\n",
    "Now investigate the growth rates in a user-defined list of countries and write to file"
   ]
  },
  {
   "cell_type": "code",
   "execution_count": 132,
   "metadata": {},
   "outputs": [],
   "source": [
    "#Read in countries from file \n",
    "def WriteGrowthRates(country_file):\n",
    "    \n",
    "    data = pandas.read_csv(country_file)\n",
    "    #print(data.columns[0])\n",
    "        \n",
    "    csvname = \"GrowthRates.csv\"\n",
    "\n",
    "    with open(csvname,mode='w') as growthrate_file:\n",
    "        csv_writer = csv.DictWriter(growthrate_file,fieldnames=[\"Country\",\"GrowthRate1\",\"GrowthRate2\",\"DayOfChange\"])\n",
    "        #country_file, delimiter=',', quotechar='\"', quoting=csv.QUOTE_MINIMAL)\n",
    "        csv_writer.writeheader()\n",
    "    \n",
    "        cid = 1\n",
    "        while cid < len(data.columns):\n",
    "            growthrate = ObtainGrowthRate(country_file,data.columns[cid])\n",
    "            print(\"Growth rate for\",data.columns[cid],\"is\",growthrate[0])\n",
    "            csv_writer.writerow({\"Country\":data.columns[cid],\"GrowthRate1\":format(growthrate[0],'.5g'),\n",
    "                                \"GrowthRate2\":format(growthrate[1],'.5g'),\"DayOfChange\":format(growthrate[2],'.5g')})\n",
    "            cid += 1"
   ]
  },
  {
   "cell_type": "code",
   "execution_count": 133,
   "metadata": {},
   "outputs": [
    {
     "name": "stderr",
     "output_type": "stream",
     "text": [
      "/anaconda3/lib/python3.6/site-packages/numpy/core/fromnumeric.py:52: FutureWarning: \n",
      "The current behaviour of 'Series.argmax' is deprecated, use 'idxmax'\n",
      "instead.\n",
      "The behavior of 'argmax' will be corrected to return the positional\n",
      "maximum in the future. For now, use 'series.values.argmax' or\n",
      "'np.argmax(np.array(values))' to get the position of the maximum\n",
      "row.\n",
      "  return getattr(obj, method)(*args, **kwds)\n",
      "/anaconda3/lib/python3.6/site-packages/scipy/optimize/minpack.py:808: OptimizeWarning: Covariance of the parameters could not be estimated\n",
      "  category=OptimizeWarning)\n"
     ]
    },
    {
     "name": "stdout",
     "output_type": "stream",
     "text": [
      "linear fit preferred for Algeria growth rate 0.26786163241132666\n",
      "Growth rate for Algeria is 0.26786163241132666\n",
      "linear fit preferred for Australia growth rate 0.09351583948906489\n",
      "Growth rate for Australia is 0.09351583948906489\n",
      "linear fit preferred for Brazil growth rate 0.13343243793887039\n",
      "Growth rate for Brazil is 0.13343243793887039\n",
      "Empty data for Burkina Faso\n",
      "Growth rate for Burkina Faso is 0.0\n",
      "linear fit preferred for Chile growth rate 0.100101908685958\n",
      "Growth rate for Chile is 0.100101908685958\n",
      "logistic fit preferred for China\n",
      "inflection date 21.303633540526747\n",
      "Growth rate for China is 0.11434295276366868\n",
      "linear fit preferred for Egypt growth rate 0.05970013439435429\n",
      "Growth rate for Egypt is 0.05970013439435429\n",
      "linear fit preferred for Germany growth rate 0.10807507727060052\n",
      "Growth rate for Germany is 0.10807507727060052\n",
      "logistic fit preferred for Iran (Islamic Republic of)\n",
      "inflection date 17.351265812343037\n",
      "Growth rate for Iran (Islamic Republic of) is 0.10937546588694347\n",
      "logistic fit preferred for Italy\n",
      "inflection date 28.27534993201442\n",
      "Growth rate for Italy is 0.08960554346260752\n",
      "logistic fit preferred for Japan\n",
      "inflection date 22.576135315754\n",
      "Growth rate for Japan is 0.038205885158267616\n",
      "linear fit preferred for South Africa growth rate 0.1014935888905466\n",
      "Growth rate for South Africa is 0.1014935888905466\n",
      "logistic fit preferred for Korea (Republic of)\n",
      "inflection date 10.56572953885247\n",
      "Growth rate for Korea (Republic of) is 0.13066462184736352\n",
      "linear fit preferred for United Kingdom growth rate 0.0988581653017098\n",
      "Growth rate for United Kingdom is 0.0988581653017098\n",
      "linear fit preferred for United States growth rate 0.12645782675247652\n",
      "Growth rate for United States is 0.12645782675247652\n"
     ]
    }
   ],
   "source": [
    "WriteGrowthRates(\"CountryCases.csv\")"
   ]
  },
  {
   "cell_type": "code",
   "execution_count": null,
   "metadata": {
    "collapsed": true
   },
   "outputs": [],
   "source": []
  }
 ],
 "metadata": {
  "kernelspec": {
   "display_name": "Python 3",
   "language": "python",
   "name": "python3"
  },
  "language_info": {
   "codemirror_mode": {
    "name": "ipython",
    "version": 3
   },
   "file_extension": ".py",
   "mimetype": "text/x-python",
   "name": "python",
   "nbconvert_exporter": "python",
   "pygments_lexer": "ipython3",
   "version": "3.6.3"
  }
 },
 "nbformat": 4,
 "nbformat_minor": 2
}
