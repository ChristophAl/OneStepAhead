{
 "cells": [
  {
   "cell_type": "markdown",
   "metadata": {},
   "source": [
    "# Growth rate estimates\n",
    "\n",
    "Code to read in information per country on total number of cases and number of days since case 100\n",
    "Then to fit the data, obtaining the date of inflection and the initial growth rate"
   ]
  },
  {
   "cell_type": "code",
   "execution_count": 1,
   "metadata": {
    "collapsed": true
   },
   "outputs": [],
   "source": [
    "import numpy as np\n",
    "import matplotlib.pyplot as plt\n",
    "import matplotlib.colors as colors\n",
    "\n",
    "import csv\n",
    "from scipy.interpolate import interp1d\n",
    "from scipy.optimize import curve_fit\n",
    "\n",
    "import pandas \n",
    "\n",
    "from scipy.optimize import curve_fit\n",
    "\n",
    "%matplotlib inline"
   ]
  },
  {
   "cell_type": "code",
   "execution_count": 7,
   "metadata": {
    "collapsed": true
   },
   "outputs": [],
   "source": [
    "#Fit functions\n",
    "def logistic_model(x,a,b,c):\n",
    "    return c/(1+np.exp(-(x-b)/a))\n",
    "\n",
    "def exponential_model(x,a,b,c):\n",
    "    return a*np.exp(b*(x-c))\n",
    "\n",
    "def linear_fit(x,m,c):\n",
    "    return x*m + c"
   ]
  },
  {
   "cell_type": "code",
   "execution_count": 27,
   "metadata": {},
   "outputs": [],
   "source": [
    "#Calculate chi-squared\n",
    "def chisquare(data,expct):\n",
    "    return sum((data-expct)**2 / expct)"
   ]
  },
  {
   "cell_type": "code",
   "execution_count": 43,
   "metadata": {
    "collapsed": true
   },
   "outputs": [],
   "source": [
    "#Function to obtain growth rate from data file\n",
    "def ObtainGrowthRate(inputfile):\n",
    "    \n",
    "    #Read in data file \n",
    "    df = pandas.read_csv(inputfile)\n",
    "    \n",
    "    #Perform a linear fit to the data\n",
    "    popt, pcov = curve_fit(polfit, df[\"Days_since_100\"],np.log10(df[\"Total_cases\"]))\n",
    "    chi2 = chisquare(df[\"Total_cases\"],10.**(df[\"Days_since_100\"]*popt[0] + popt[1]))\n",
    "\n",
    "    #Perform a logistic fit to the data\n",
    "    log_fit, log_cov = curve_fit(logistic_model,df[\"Days_since_100\"],df[\"Total_cases\"],p0=[2.5,1,max(df[\"Total_cases\"])])\n",
    "    logchi2 = chisquare(df[\"Total_cases\"],logistic_model(df[\"Days_since_100\"],*log_fit))\n",
    "\n",
    "    inflection_date = log_fit[1]\n",
    "\n",
    "    if chi2 < logchi2 or inflection_date > max(df[\"Days_since_100\"]):\n",
    "        print(\"linear fit preferred\")\n",
    "        growthrate = popt[0]\n",
    "        return growthrate\n",
    "\n",
    "    print(\"logistic fit preferred\")\n",
    "    print(\"inflection date\",inflection_date)\n",
    "    \n",
    "    #Perform linear fits pre and post inflection date to compare growth rates\n",
    "    mask1 = df[\"Days_since_100\"] < inflection_date\n",
    "    mask2 = df[\"Days_since_100\"] > inflection_date\n",
    "    \n",
    "    popt, pcov = curve_fit(polfit, df[\"Days_since_100\"][mask1],np.log10(df[\"Total_cases\"][mask1]))\n",
    "    chi2 = chisquare(df[\"Total_cases\"][mask1],10.**(df[\"Days_since_100\"][mask1]*popt[0] + popt[1]))\n",
    "    \n",
    "    popt2, pcov2 = curve_fit(polfit, df[\"Days_since_100\"][mask2],np.log10(df[\"Total_cases\"][mask2]))\n",
    "    chi2_2 = chisquare(df[\"Total_cases\"][mask2],10.**(df[\"Days_since_100\"][mask2]*popt2[0] + popt2[1]))\n",
    "\n",
    "\n",
    "    growthrate = popt[0]\n",
    "    growthrate2 = popt2[0]\n",
    "    return growthrate, growthrate2\n",
    "    "
   ]
  },
  {
   "cell_type": "code",
   "execution_count": 48,
   "metadata": {},
   "outputs": [
    {
     "name": "stdout",
     "output_type": "stream",
     "text": [
      "logistic fit preferred\n",
      "inflection date 21.30804312546522\n"
     ]
    },
    {
     "data": {
      "text/plain": [
       "(0.11434295276366868, 0.003796025616287113)"
      ]
     },
     "execution_count": 48,
     "metadata": {},
     "output_type": "execute_result"
    }
   ],
   "source": [
    "ObtainGrowthRate(\"Cases_China.csv\")"
   ]
  },
  {
   "cell_type": "code",
   "execution_count": null,
   "metadata": {
    "collapsed": true
   },
   "outputs": [],
   "source": []
  }
 ],
 "metadata": {
  "kernelspec": {
   "display_name": "Python 3",
   "language": "python",
   "name": "python3"
  },
  "language_info": {
   "codemirror_mode": {
    "name": "ipython",
    "version": 3
   },
   "file_extension": ".py",
   "mimetype": "text/x-python",
   "name": "python",
   "nbconvert_exporter": "python",
   "pygments_lexer": "ipython3",
   "version": "3.6.3"
  }
 },
 "nbformat": 4,
 "nbformat_minor": 2
}
